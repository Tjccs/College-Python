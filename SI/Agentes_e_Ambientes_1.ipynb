{
 "cells": [
  {
   "cell_type": "markdown",
   "metadata": {},
   "source": [
    "# Sistemas Inteligentes - Agentes e Ambientes / 1\n",
    "\n",
    "## Guião Laboratorial \n",
    "\n",
    "(28/2/2018)"
   ]
  },
  {
   "cell_type": "markdown",
   "metadata": {},
   "source": [
    "### Introdução\n",
    "\n",
    "Neste laboratório vamos ver como podemos executar agentes nos seus ambientes. Recordando, um *agente* é uma entidade que percepciona o *ambiente* em que se encontra e, em *função* das percepções que recebe através de sensores, atua nesse ambiente recorrendo aos seus atuadores.\n",
    "\n",
    "Temos assim três conceitos centrais:\n",
    "* Agente – entidade que percepciona e atua;\n",
    "* Ambiente – contexto em que o agente opera;\n",
    "* Programa – concretiza a função do agente (mapeamento percepções/ações).\n",
    "\n",
    "A implementação que vamos seguir baseia-se no código disponível em [agentes_e_ambientes.zip](https://moodle.ciencias.ulisboa.pt/pluginfile.php/107606/mod_page/content/5/agentes_e_ambientes.zip), para o qual está disponível o respectivo [diagrama de classes](https://moodle.ciencias.ulisboa.pt/pluginfile.php/107606/mod_page/content/5/classes_Agents.png).\n",
    "Este código assenta na definição de duas classes principais: **Agent** e **Environment**. O zip hiperligado inclui três ficheiro: agents.py, o principal, e os auxiliares grid.py e utils.py.\n",
    "\n",
    "Em primeiro lugar, deverá carregar estes três ficheiros para um directório pessoal.\n",
    "\n",
    "No que se segue, vá criando, no mesmo directório onde colocou os três anteriores, ficheiros Python com o código ilustrado, com as adições que forem indicadas, e realizando as experiências sugeridas (e outras)."
   ]
  },
  {
   "cell_type": "markdown",
   "metadata": {},
   "source": [
    "### Primeira parte - um agente\n",
    "\n",
    "Considere o seguinte código:"
   ]
  },
  {
   "cell_type": "code",
   "execution_count": 9,
   "metadata": {
    "collapsed": true
   },
   "outputs": [],
   "source": [
    "from agents import *\n",
    "\n",
    "class BlindDog(Agent):\n",
    "    def eat(self, thing):\n",
    "        print(\"Dog: Ate food at {}.\".format(self.location))\n",
    "            \n",
    "    def drink(self, thing):\n",
    "        print(\"Dog: Drank water at {}.\".format(self.location))\n"
   ]
  },
  {
   "cell_type": "markdown",
   "metadata": {
    "collapsed": true
   },
   "source": [
    "O **BlindDog** é então uma subclasse de **Agent**, para a qual são definidos dois métodos, ***eat()*** e ***drink()***, que concretizam uma forma (para já) rudimentar das acções de comer e beber.\n",
    "\n",
    "Vamos experimentar:"
   ]
  },
  {
   "cell_type": "code",
   "execution_count": 10,
   "metadata": {
    "collapsed": true
   },
   "outputs": [],
   "source": [
    "cao = BlindDog()"
   ]
  },
  {
   "cell_type": "markdown",
   "metadata": {},
   "source": [
    "Vejamos os atributos do cão que acabámos de criar:"
   ]
  },
  {
   "cell_type": "code",
   "execution_count": 11,
   "metadata": {},
   "outputs": [
    {
     "name": "stdout",
     "output_type": "stream",
     "text": [
      "alive\n",
      "bump\n",
      "holding\n",
      "performance\n",
      "program\n",
      "2\n"
     ]
    }
   ],
   "source": [
    "for a in cao.__dict__.keys() :\n",
    "    print(a)\n",
    "print(\"2\")"
   ]
  },
  {
   "cell_type": "markdown",
   "metadata": {},
   "source": [
    "Todos estes atributos foram herdados da classe **Agent** e definidos aquando da execução do  construtor (veja no código original). Alguns deles não são relevantes por agora, mas vejamos dois deles:"
   ]
  },
  {
   "cell_type": "code",
   "execution_count": 12,
   "metadata": {},
   "outputs": [
    {
     "name": "stdout",
     "output_type": "stream",
     "text": [
      "True\n",
      "<function Agent.__init__.<locals>.program at 0x7ffae844bd90>\n"
     ]
    }
   ],
   "source": [
    "print(cao.alive)\n",
    "print(cao.program)"
   ]
  },
  {
   "cell_type": "markdown",
   "metadata": {},
   "source": [
    "Ou seja, o *cao* foi criado vivo (o atributo 'alive' é True) e o seu programa está representado pela função indicada.\n",
    "\n",
    "Nos métodos ***eat()*** e ***drink()*** definidos nesta classe, existe uma referência a um atributo ***location***. Vejamos o seu valor:"
   ]
  },
  {
   "cell_type": "code",
   "execution_count": 13,
   "metadata": {
    "scrolled": true
   },
   "outputs": [
    {
     "ename": "AttributeError",
     "evalue": "'BlindDog' object has no attribute 'location'",
     "output_type": "error",
     "traceback": [
      "\u001b[0;31m\u001b[0m",
      "\u001b[0;31mAttributeError\u001b[0mTraceback (most recent call last)",
      "\u001b[0;32m<ipython-input-13-94bbf971e830>\u001b[0m in \u001b[0;36m<module>\u001b[0;34m()\u001b[0m\n\u001b[0;32m----> 1\u001b[0;31m \u001b[0mprint\u001b[0m\u001b[0;34m(\u001b[0m\u001b[0mcao\u001b[0m\u001b[0;34m.\u001b[0m\u001b[0mlocation\u001b[0m\u001b[0;34m)\u001b[0m\u001b[0;34m\u001b[0m\u001b[0m\n\u001b[0m",
      "\u001b[0;31mAttributeError\u001b[0m: 'BlindDog' object has no attribute 'location'"
     ]
    }
   ],
   "source": [
    "print(cao.location)"
   ]
  },
  {
   "cell_type": "markdown",
   "metadata": {},
   "source": [
    "A localização do cão não está definida, pois esta só faz sentido se o cão estiver inserido num ambiente concreto."
   ]
  },
  {
   "cell_type": "markdown",
   "metadata": {},
   "source": [
    "### Segunda parte - o ambiente\n",
    "\n",
    "Temos então que colocar o cão num ambiente em que ele se possa divertir. Vamos ao Parque!\n",
    "\n",
    "Considere o seguinte código:"
   ]
  },
  {
   "cell_type": "code",
   "execution_count": 14,
   "metadata": {},
   "outputs": [],
   "source": [
    "class Food(Thing):\n",
    "    pass\n",
    "\n",
    "class Water(Thing):\n",
    "    pass\n",
    "\n",
    "class Park(Environment):\n",
    "    def percept(self, agent):\n",
    "        '''prints & return a list of things that are in our agent's location'''\n",
    "        things = self.list_things_at(agent.location)\n",
    "        print(things)\n",
    "        return things\n",
    "    \n",
    "    def execute_action(self, agent, action):\n",
    "        '''changes the state of the environment based on what the agent does.'''\n",
    "        if action == \"move down\":\n",
    "            agent.movedown()\n",
    "        elif action == \"eat\":\n",
    "            items = self.list_things_at(agent.location, tclass=Food)\n",
    "            if len(items) != 0:\n",
    "                if agent.eat(items[0]): #Have the dog pick eat the first item\n",
    "                    self.delete_thing(items[0]) #Delete it from the Park after.\n",
    "        elif action == \"drink\":\n",
    "            items = self.list_things_at(agent.location, tclass=Water)\n",
    "            if len(items) != 0:\n",
    "                if agent.drink(items[0]): #Have the dog drink the first item\n",
    "                    self.delete_thing(items[0]) #Delete it from the Park after.\n",
    "                    \n",
    "    def is_done(self):\n",
    "        '''By default, we're done when we can't find a live agent, \n",
    "        but to prevent killing our cute dog, we will or it with when there is no\n",
    "        more food or water'''\n",
    "        no_edibles = not any(isinstance(thing, Food) or isinstance(thing, Water) \\\n",
    "                             for thing in self.things)\n",
    "        dead_agents = not any(agent.is_alive() for agent in self.agents)\n",
    "        return dead_agents or no_edibles\n"
   ]
  },
  {
   "cell_type": "markdown",
   "metadata": {},
   "source": [
    "Criámos a classe **Park** como subclasse de **Environment**. \n",
    "\n",
    "Há dois métodos que têm que ser definidos quando se caracteriza um ambiente especializando a classe **Environment**:\n",
    "* ***percept(self, agent)*** - devolve as percepções do agente no ambiente em causa;\n",
    "* ***execute_action(self, agent, action)*** - altera o ambiente em causa em função da acção executada pelo agente."
   ]
  },
  {
   "cell_type": "markdown",
   "metadata": {},
   "source": [
    "Como pode ver no código fonte original, um ambiente tem dois atributos:\n",
    "* ***things*** - lista de todas as coisas que existem no ambiente;\n",
    "* ***agents*** - lista dos agentes que existem no ambiente.\n",
    "Quando o ambiente é criado, ambas as listas estão vazias:"
   ]
  },
  {
   "cell_type": "code",
   "execution_count": 15,
   "metadata": {},
   "outputs": [
    {
     "name": "stdout",
     "output_type": "stream",
     "text": [
      "Coisas: []\n",
      "Agentes:[]\n"
     ]
    }
   ],
   "source": [
    "parque = Park()\n",
    "print(\"Coisas: {}\".format(parque.things))\n",
    "print(\"Agentes:{}\".format(parque.agents))"
   ]
  },
  {
   "cell_type": "markdown",
   "metadata": {},
   "source": [
    "Para adicionar coisas ao ambiente, a classe **Environment** disponibiliza o método ***add_thing(self, thing, location=None)***.\n",
    "\n",
    "Este ambiente ***Park*** tem uma estrutura muito simples, sendo simplesmente linear (uma sequência de localizações contíguas, numeradas a partir de 0).\n",
    "\n",
    "Vamos então adicionar o cão ao Parque:"
   ]
  },
  {
   "cell_type": "code",
   "execution_count": 16,
   "metadata": {},
   "outputs": [
    {
     "name": "stdout",
     "output_type": "stream",
     "text": [
      "Coisas: [<BlindDog>]\n",
      "Agentes:[<BlindDog>]\n"
     ]
    }
   ],
   "source": [
    "parque.add_thing(cao)\n",
    "print(\"Coisas: {}\".format(parque.things))\n",
    "print(\"Agentes:{}\".format(parque.agents))"
   ]
  },
  {
   "cell_type": "markdown",
   "metadata": {},
   "source": [
    "Vejamos agora em que localização ficou o cão:"
   ]
  },
  {
   "cell_type": "code",
   "execution_count": 17,
   "metadata": {},
   "outputs": [
    {
     "name": "stdout",
     "output_type": "stream",
     "text": [
      "None\n"
     ]
    }
   ],
   "source": [
    "print(cao.location)"
   ]
  },
  {
   "cell_type": "markdown",
   "metadata": {},
   "source": [
    "Ainda não é isto que nos interessa. O método ***add_thing()*** referido acima, quando não recebe qualquer valor para a localização, recorre a um outro método da classe **Environment** para definir uma localização por omissão. É o método ***default_location()***.\n",
    "\n",
    "#### Exercício 1\n",
    "Redefina o método ***default_location()*** de modo a que, sempre que algo é adicionado a um Park sem se explicitar a localização, a sua localização por omissão seja 0 (zero). Incorpore esta alteração numa nova versão da classe, chamando-lhe **Parque2**. "
   ]
  },
  {
   "cell_type": "code",
   "execution_count": null,
   "metadata": {
    "collapsed": true
   },
   "outputs": [],
   "source": []
  },
  {
   "cell_type": "markdown",
   "metadata": {},
   "source": [
    "Podemos adicionar mais coisas ao Parque. Vamos adicionar comida e água.\n",
    "\n",
    "Vamos então importar a nova versão da classe ***Park*** que incorpora a resolução do exercício anterior."
   ]
  },
  {
   "cell_type": "code",
   "execution_count": 18,
   "metadata": {},
   "outputs": [
    {
     "ename": "ModuleNotFoundError",
     "evalue": "No module named 'Parque2'",
     "output_type": "error",
     "traceback": [
      "\u001b[0;31m\u001b[0m",
      "\u001b[0;31mModuleNotFoundError\u001b[0mTraceback (most recent call last)",
      "\u001b[0;32m<ipython-input-18-8412d7550910>\u001b[0m in \u001b[0;36m<module>\u001b[0;34m()\u001b[0m\n\u001b[1;32m      1\u001b[0m \u001b[0mget_ipython\u001b[0m\u001b[0;34m(\u001b[0m\u001b[0;34m)\u001b[0m\u001b[0;34m.\u001b[0m\u001b[0mmagic\u001b[0m\u001b[0;34m(\u001b[0m\u001b[0;34m'reset -f'\u001b[0m\u001b[0;34m)\u001b[0m\u001b[0;34m\u001b[0m\u001b[0m\n\u001b[0;32m----> 2\u001b[0;31m \u001b[0;32mfrom\u001b[0m \u001b[0mParque2\u001b[0m \u001b[0;32mimport\u001b[0m \u001b[0;34m*\u001b[0m\u001b[0;34m\u001b[0m\u001b[0m\n\u001b[0m\u001b[1;32m      3\u001b[0m \u001b[0;34m\u001b[0m\u001b[0m\n\u001b[1;32m      4\u001b[0m \u001b[0mparque\u001b[0m \u001b[0;34m=\u001b[0m \u001b[0mPark\u001b[0m\u001b[0;34m(\u001b[0m\u001b[0;34m)\u001b[0m\u001b[0;34m\u001b[0m\u001b[0m\n\u001b[1;32m      5\u001b[0m \u001b[0;34m\u001b[0m\u001b[0m\n",
      "\u001b[0;31mModuleNotFoundError\u001b[0m: No module named 'Parque2'"
     ]
    }
   ],
   "source": [
    "%reset -f\n",
    "from Parque2 import *\n",
    "\n",
    "parque = Park()\n",
    "\n",
    "cao = BlindDog()\n",
    "comida_de_cao = Food()\n",
    "agua = Water()\n",
    "\n",
    "parque.add_thing(comida_de_cao,5)\n",
    "parque.add_thing(agua,7)\n",
    "parque.add_thing(cao)"
   ]
  },
  {
   "cell_type": "code",
   "execution_count": 19,
   "metadata": {},
   "outputs": [
    {
     "ename": "NameError",
     "evalue": "name 'cao' is not defined",
     "output_type": "error",
     "traceback": [
      "\u001b[0;31m\u001b[0m",
      "\u001b[0;31mNameError\u001b[0mTraceback (most recent call last)",
      "\u001b[0;32m<ipython-input-19-94bbf971e830>\u001b[0m in \u001b[0;36m<module>\u001b[0;34m()\u001b[0m\n\u001b[0;32m----> 1\u001b[0;31m \u001b[0mprint\u001b[0m\u001b[0;34m(\u001b[0m\u001b[0mcao\u001b[0m\u001b[0;34m.\u001b[0m\u001b[0mlocation\u001b[0m\u001b[0;34m)\u001b[0m\u001b[0;34m\u001b[0m\u001b[0m\n\u001b[0m",
      "\u001b[0;31mNameError\u001b[0m: name 'cao' is not defined"
     ]
    }
   ],
   "source": [
    "print(cao.location)"
   ]
  },
  {
   "cell_type": "code",
   "execution_count": 20,
   "metadata": {},
   "outputs": [
    {
     "ename": "NameError",
     "evalue": "name 'parque' is not defined",
     "output_type": "error",
     "traceback": [
      "\u001b[0;31m\u001b[0m",
      "\u001b[0;31mNameError\u001b[0mTraceback (most recent call last)",
      "\u001b[0;32m<ipython-input-20-1649fab94a16>\u001b[0m in \u001b[0;36m<module>\u001b[0;34m()\u001b[0m\n\u001b[0;32m----> 1\u001b[0;31m \u001b[0mprint\u001b[0m\u001b[0;34m(\u001b[0m\u001b[0;34m\"Coisas: {}\"\u001b[0m\u001b[0;34m.\u001b[0m\u001b[0mformat\u001b[0m\u001b[0;34m(\u001b[0m\u001b[0mparque\u001b[0m\u001b[0;34m.\u001b[0m\u001b[0mthings\u001b[0m\u001b[0;34m)\u001b[0m\u001b[0;34m)\u001b[0m\u001b[0;34m\u001b[0m\u001b[0m\n\u001b[0m\u001b[1;32m      2\u001b[0m \u001b[0mprint\u001b[0m\u001b[0;34m(\u001b[0m\u001b[0;34m\"Agentes:{}\"\u001b[0m\u001b[0;34m.\u001b[0m\u001b[0mformat\u001b[0m\u001b[0;34m(\u001b[0m\u001b[0mparque\u001b[0m\u001b[0;34m.\u001b[0m\u001b[0magents\u001b[0m\u001b[0;34m)\u001b[0m\u001b[0;34m)\u001b[0m\u001b[0;34m\u001b[0m\u001b[0m\n",
      "\u001b[0;31mNameError\u001b[0m: name 'parque' is not defined"
     ]
    }
   ],
   "source": [
    "print(\"Coisas: {}\".format(parque.things))\n",
    "print(\"Agentes:{}\".format(parque.agents))"
   ]
  },
  {
   "cell_type": "markdown",
   "metadata": {},
   "source": [
    "#### Exercício 2\n",
    "Acrescente à classe ***Park*** um método (***\\__str__()***) que produza uma String com a representação do ambiente. Considere, por exemplo, os seguintes caracteres para representar as coisas deste ambiente:\n",
    "* Cão -> '*'\n",
    "* Água ->'A'\n",
    "* Comida -> 'C'\n",
    "\n",
    "Note que será também necessário alterar as representações em string das coisas que existem no ambiente.\n",
    "Uma versão deste método permite uma visualização como a ilustrada em seguida.\n",
    "\n",
    "Poderá definir uma representação distinta para os ambientes do tipo **Park**, mas tenha em consideração que poderão existir várias coisas numa mesma localização. Por exemplo, é possível que exista comida e água num mesmo local."
   ]
  },
  {
   "cell_type": "code",
   "execution_count": 21,
   "metadata": {
    "scrolled": true
   },
   "outputs": [
    {
     "ename": "NameError",
     "evalue": "name 'parque' is not defined",
     "output_type": "error",
     "traceback": [
      "\u001b[0;31m\u001b[0m",
      "\u001b[0;31mNameError\u001b[0mTraceback (most recent call last)",
      "\u001b[0;32m<ipython-input-21-a76c92750b8e>\u001b[0m in \u001b[0;36m<module>\u001b[0;34m()\u001b[0m\n\u001b[0;32m----> 1\u001b[0;31m \u001b[0mprint\u001b[0m\u001b[0;34m(\u001b[0m\u001b[0mparque\u001b[0m\u001b[0;34m)\u001b[0m\u001b[0;34m\u001b[0m\u001b[0m\n\u001b[0m",
      "\u001b[0;31mNameError\u001b[0m: name 'parque' is not defined"
     ]
    }
   ],
   "source": [
    "print(parque)"
   ]
  },
  {
   "cell_type": "markdown",
   "metadata": {},
   "source": [
    "Na variante acima, assume-se sempre que é mostrado o conteúdo de todas as células até à última que esteja ocupada (7, no exemplo). Sugestão: Utilize um dicionário em que as chaves são as posições.\n",
    "***\n",
    "***\n",
    "Já temos o cão situado num ambiente, o parque, no qual vai poder desclocar-se, comer e beber. Mas, para fazer isso, temos que definir o seu comportamento recorrendo a um programa."
   ]
  },
  {
   "cell_type": "markdown",
   "metadata": {},
   "source": [
    "### Terceira parte - o programa\n",
    "O comportamento de um agente é caracterizado pela definição de uma função, que deverá ser passada como argumento do construtor do agente, para ser guardada no seu atributo ***program***.\n",
    "\n",
    "Esta função deverá ter apenas um argumento (a percepção) e devolver a correspondente acção.\n",
    "\n",
    "O tipo destas entidades (percepção e acção) tem que ser compatível com as definições dos métodos ***percept(self,agent)*** e ***execute_action(self,agent,action)*** definidos.\n",
    "\n",
    "Vejamos a caracterização e definição de uma função muito simples para concretizar o comportamento básico do cão.\n",
    "\n",
    "O comportamento que pretendemos está definido na seguinte tabela: \n",
    "<table>\n",
    "    <tr>\n",
    "        <td><b>Percepção:</b> </td>\n",
    "        <td>Sente Comida </td>\n",
    "        <td>Sente Água</td>\n",
    "        <td>Não sente nada</td>\n",
    "   </tr>\n",
    "   <tr>\n",
    "       <td><b>Acção:</b> </td>\n",
    "       <td>comer</td>\n",
    "       <td>beber</td>\n",
    "       <td>andar</td>\n",
    "   </tr>\n",
    "        \n",
    "</table>\n",
    "\n",
    "Este comportamento pode ser traduzido na seguinte função, respeitando o facto de que:\n",
    "* percepção - é a lista das percepções (lista de coisas - objectos da classe **Thing**)\n",
    "* acção - deverá ser uma das strings identificadas em ***execute_action()***"
   ]
  },
  {
   "cell_type": "code",
   "execution_count": null,
   "metadata": {
    "collapsed": true
   },
   "outputs": [],
   "source": [
    "def comportamento_do_cao(percepcao):\n",
    "    '''Devolve uma acção em função da percepção'''\n",
    "    if percepcao == [] :\n",
    "        accao = 'move down'\n",
    "    elif isinstance(percepcao[0],Food) :\n",
    "        accao = 'eat'\n",
    "    elif isinstance(percepcao[0],Water) :\n",
    "        accao = 'drink'\n",
    "    else :\n",
    "        accao = comportamento_do_cao(percepcao[1:]) \n",
    "    return accao\n"
   ]
  },
  {
   "cell_type": "markdown",
   "metadata": {},
   "source": [
    "Esta função processa então apenas a primeira percepção interessante que for identificada na lista fornecida. Caso não seja identificada nenhuma, determina a movimentação do agente."
   ]
  },
  {
   "cell_type": "markdown",
   "metadata": {},
   "source": [
    "Podemos agora criar cães cujo comportamento corresponda à função definida:"
   ]
  },
  {
   "cell_type": "code",
   "execution_count": null,
   "metadata": {},
   "outputs": [],
   "source": [
    "outro_cao = BlindDog(comportamento_do_cao)\n",
    "print(outro_cao)\n",
    "print(outro_cao.program)"
   ]
  },
  {
   "cell_type": "markdown",
   "metadata": {},
   "source": [
    "### Quarta parte - execução da simulação\n",
    "De modo a simular o comportamento do cão no parque, é necessário melhorar a definição da classe **BlindDog** de modo a que os métodos correspondentes à execução das ações realizem o que o método ***execute_action()*** espera."
   ]
  },
  {
   "cell_type": "code",
   "execution_count": null,
   "metadata": {
    "collapsed": true
   },
   "outputs": [],
   "source": [
    "class BlindDog(Agent):\n",
    "\n",
    "    def movedown(self):\n",
    "        self.location += 1\n",
    "    \n",
    "    def eat(self, thing):\n",
    "        '''returns True upon success or False otherwise'''\n",
    "        if isinstance(thing, Food):\n",
    "            print(\"Dog: Ate food at {}.\".format(self.location))\n",
    "            return True\n",
    "        return False\n",
    "    \n",
    "    def drink(self, thing):\n",
    "        ''' returns True upon success or False otherwise'''\n",
    "        if isinstance(thing, Water):\n",
    "            print(\"Dog: Drank water at {}.\".format(self.location))\n",
    "            return True\n",
    "        return False\n",
    "\n",
    "    def __str__(self) :\n",
    "        return '*'\n"
   ]
  },
  {
   "cell_type": "markdown",
   "metadata": {},
   "source": [
    "Vamos então eliminar o cao anterior e criar um cão que execute o comportamento ilustrado acima:"
   ]
  },
  {
   "cell_type": "code",
   "execution_count": null,
   "metadata": {},
   "outputs": [],
   "source": [
    "parque.delete_thing(cao)\n",
    "cao = BlindDog(comportamento_do_cao)\n",
    "parque.add_thing(cao,2)\n",
    "print(parque)"
   ]
  },
  {
   "cell_type": "markdown",
   "metadata": {},
   "source": [
    "A execução dos agentes é feita com base no método ***step()***. Vejamos a sua definião na classe **Environment**:\n",
    "```python\n",
    "def step(self):\n",
    "    \"\"\"Run the environment for one time step. If the\n",
    "    actions and exogenous changes are independent, this method will\n",
    "    do.  If there are interactions between them, you'll need to\n",
    "    override this method.\"\"\"\n",
    "    if not self.is_done():\n",
    "        actions = []\n",
    "        for agent in self.agents:\n",
    "            if agent.alive:\n",
    "                actions.append(agent.program(self.percept(agent)))\n",
    "            else:\n",
    "                actions.append(\"\")\n",
    "        for (agent, action) in zip(self.agents, actions):\n",
    "            self.execute_action(agent, action)\n",
    "        self.exogenous_change()\n",
    "```"
   ]
  },
  {
   "cell_type": "markdown",
   "metadata": {},
   "source": [
    "Algumas notas importantes sobre este método:\n",
    "* A condição de terminação da execução é dada pelo método ***is_done()***, definido na classe **Park**. Neste exemplo, a simulação termina quando todos agentes estiverem mortos (alive == False) ou quando acabar a comida;\n",
    "* Todos os agentes vivos executam uma ação em cada passo.\n",
    "\n",
    "Vamos experimentar:"
   ]
  },
  {
   "cell_type": "code",
   "execution_count": null,
   "metadata": {},
   "outputs": [],
   "source": [
    "parque.step()\n",
    "print(parque)\n",
    "parque.step()\n",
    "parque.step()\n",
    "print(parque)"
   ]
  },
  {
   "cell_type": "markdown",
   "metadata": {},
   "source": [
    "Em cada passo, a chamada ao método ***percept()*** produz a escrita da lista das percepções do agente, que, no exemplo acima, corresponde ao facto de o agente se autopercepcionar!"
   ]
  },
  {
   "cell_type": "markdown",
   "metadata": {},
   "source": [
    "De modo a correr vários passos de uma só vez, existe o método ***run(self,steps)*** que executa o número de passos dado (no máximo)."
   ]
  },
  {
   "cell_type": "code",
   "execution_count": null,
   "metadata": {},
   "outputs": [],
   "source": [
    "parque.run(6)\n",
    "print(parque)"
   ]
  },
  {
   "cell_type": "markdown",
   "metadata": {},
   "source": [
    "#### Exercício 3\n",
    "Altere a definição do método ***percept()*** de modo a que na lista de percepções que é escrita em cada passo apareçam as representações em string definidas para cada tipo de coisa, ou seja, por exemplo, de modo a que apareça ['C','`*`'], em vez de `[<Food>, <BlindDog>]`."
   ]
  },
  {
   "cell_type": "markdown",
   "metadata": {},
   "source": [
    "#### Exercício 4\n",
    "Altere a definição da classe **BlindDog** de modo a que os cães sejam criados com nome. O nome dado será usado como representação do cão, facilitando assim a identificação dos agentes, nas situações em que existem vários em simultâneo no ambiente. Altere os métodos onde este aspecto é relevante."
   ]
  },
  {
   "cell_type": "markdown",
   "metadata": {},
   "source": [
    "Por exemplo, a sequência de instruções:\n",
    "```python\n",
    "    parque = Park()\n",
    "    dog1 = BlindDog(\"Bobi\",comportamento_do_cao)\n",
    "    dog2 = BlindDog(\"Milou\",comportamento_do_cao)\n",
    "    dogfood = Food()\n",
    "    water = Water()\n",
    "    parque.add_thing(dog1, 2)\n",
    "    parque.add_thing(dog2, 6)\n",
    "    parque.add_thing(dogfood, 5)\n",
    "    parque.add_thing(water, 7)\n",
    "    print(parque)\n",
    "```"
   ]
  },
  {
   "cell_type": "markdown",
   "metadata": {},
   "source": [
    "Deverá produzir o seguinte output:\n",
    "```\n",
    "0: \n",
    "1: \n",
    "2: /Bobi\n",
    "3: \n",
    "4: \n",
    "5: /C\n",
    "6: /Milou\n",
    "7: /A\n",
    "```"
   ]
  },
  {
   "cell_type": "markdown",
   "metadata": {},
   "source": [
    "#### Exercício 5 - um ambiente 2D\n",
    "Defina agora um parque a duas dimensões recorrendo à classe **XYEnvironment** (que estende a **Environment**).\n",
    "```python\n",
    "class Park2D(XYEnvironment) :\n",
    "    ...\n",
    "\n",
    "parque2 = Park2D(6,6) # cria parque de dimensão 6x6\n",
    "```"
   ]
  },
  {
   "cell_type": "markdown",
   "metadata": {},
   "source": [
    "Por exemplo, a sequência de instruções:\n",
    "```python\n",
    "    parque = Park2D(6,6)\n",
    "    dog1 = BlindDog(\"*\",comportamento_do_cao)\n",
    "    dog2 = BlindDog(\"@\",comportamento_do_cao)\n",
    "    dogfood = Food()\n",
    "    water = Water()\n",
    "    parque.add_thing(dog1, (1,2))\n",
    "    parque.add_thing(dog2, (3,4))\n",
    "    parque.add_thing(dogfood, (4,3))\n",
    "    parque.add_thing(water, (4,1))\n",
    "    print(parque)\n",
    "```"
   ]
  },
  {
   "cell_type": "markdown",
   "metadata": {},
   "source": [
    "Deverá produzir um output semelhante ao seguinte:\n",
    "```\n",
    "     0   1   2   3   4   5 \n",
    "  0                   \n",
    "  1             /A    \n",
    "  2    /*             \n",
    "  3             /C    \n",
    "  4          /@       \n",
    "  5                   \n",
    "```"
   ]
  },
  {
   "cell_type": "markdown",
   "metadata": {
    "collapsed": true
   },
   "source": [
    "Algumas observações para ajudar a resolução:\n",
    "* Para além dos atributos ***things*** e ***agents***, a classe **EnvirnomentXY** tem também um conjunto de atributos relacionados com a dimensão do espaço (***width***, ***height***, ***x_start***, ***x_end***,***y_start***, ***y_end***).\n",
    "* Cada localização é definida por um par (X,Y). No exemplo acima, as localizações válidas do *parque2* vão de (0,0) a (5,5).\n",
    "* O método booleano ***is_inbounds()*** permite verificar se uma dada coordenada é válida."
   ]
  },
  {
   "cell_type": "markdown",
   "metadata": {},
   "source": [
    "Muitos dos métodos definidos para **Park** podem ser aproveitados. Alguns têm que ser adaptados. Assim:\n",
    "* Na classe **Park2D**:\n",
    "    * Altere o método ***execute_action()*** de modo a lidar com as diferentes acções de movimentação.\n",
    "    * Altere o método ***\\__str__()***\n",
    "* Na classe **Dog**:\n",
    "    * Defina uma forma de representar as acções de movimentação nos quatro sentidos principais.\n",
    "* Defina funções que traduzam comportamentos diferentes relativamente à movimentação, por exemplo:\n",
    "    * movimentação aleatória\n",
    "    * movimentação em função de visão limitada de uma unidade, deslocando-se para comida (ou água)\n",
    "    "
   ]
  }
 ],
 "metadata": {
  "kernelspec": {
   "display_name": "Python 3",
   "language": "python",
   "name": "python3"
  },
  "language_info": {
   "codemirror_mode": {
    "name": "ipython",
    "version": 3
   },
   "file_extension": ".py",
   "mimetype": "text/x-python",
   "name": "python",
   "nbconvert_exporter": "python",
   "pygments_lexer": "ipython3",
   "version": "3.6.3"
  }
 },
 "nbformat": 4,
 "nbformat_minor": 2
}
